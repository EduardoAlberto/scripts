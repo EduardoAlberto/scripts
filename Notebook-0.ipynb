{
    "metadata": {
        "kernelspec": {
            "name": "python3",
            "display_name": "Python 3 (ipykernel)",
            "language": "python"
        },
        "language_info": {
            "name": "python",
            "version": "3.10.1",
            "mimetype": "text/x-python",
            "codemirror_mode": {
                "name": "ipython",
                "version": 3
            },
            "pygments_lexer": "ipython3",
            "nbconvert_exporter": "python",
            "file_extension": ".py"
        }
    },
    "nbformat_minor": 2,
    "nbformat": 4,
    "cells": [
        {
            "cell_type": "code",
            "source": [
                "def pesquisa_binaria(lista, item):\n",
                "    baixo = 0\n",
                "    alto = len(lista) - 1\n",
                "    while baixo <= alto:\n",
                "        meio = (baixo + alto) // 2\n",
                "        chute = lista[meio]\n",
                "        if chute == item:\n",
                "            return meio\n",
                "        if chute > item:\n",
                "            alto = meio - 1\n",
                "        else:\n",
                "            baixo = meio + 1\n",
                "    return None\n",
                "\n",
                "# testando a função\n",
                "minha_lista = [1,2,3,7,9]\n",
                "\n",
                "print(pesquisa_binaria(minha_lista, 3))\n",
                "print(pesquisa_binaria(minha_lista, -1))"
            ],
            "metadata": {
                "azdata_cell_guid": "6eb046b0-48f4-4a8b-8fcd-4f129a45188c"
            },
            "outputs": [],
            "execution_count": 7
        },
        {
            "cell_type": "code",
            "source": [
                "def soma(lista):\n",
                "    total = 0\n",
                "    for x in lista:\n",
                "        total += x\n",
                "    return total\n",
                "print (soma([1,2,3,4]))"
            ],
            "metadata": {
                "azdata_cell_guid": "f76127c9-528d-434e-af9c-4011d857a2ad",
                "tags": []
            },
            "outputs": [
                {
                    "output_type": "stream",
                    "name": "stdout",
                    "text": "10\n"
                }
            ],
            "execution_count": 5
        },
        {
            "cell_type": "code",
            "source": [
                ""
            ],
            "metadata": {
                "azdata_cell_guid": "00cab6b4-69fd-4e3c-a156-62fe84e6abbe"
            },
            "outputs": [],
            "execution_count": null
        }
    ]
}