{
 "metadata": {
  "language_info": {
   "codemirror_mode": {
    "name": "ipython",
    "version": 3
   },
   "file_extension": ".py",
   "mimetype": "text/x-python",
   "name": "python",
   "nbconvert_exporter": "python",
   "pygments_lexer": "ipython3",
   "version": "3.9.2-final"
  },
  "orig_nbformat": 2,
  "kernelspec": {
   "name": "python3",
   "display_name": "Python 3.9.2 64-bit",
   "metadata": {
    "interpreter": {
     "hash": "aee8b7b246df8f9039afb4144a1f6fd8d2ca17a180786b69acc140d282b71a49"
    }
   }
  }
 },
 "nbformat": 4,
 "nbformat_minor": 2,
 "cells": [
  {
   "cell_type": "code",
   "execution_count": 2,
   "metadata": {},
   "outputs": [],
   "source": [
    "# Conexão MSSQL 2019\n",
    "import pyodbc \n",
    "import pandas as pd\n",
    "\n",
    "cnxn = pyodbc.connect(DRIVER='{ODBC Driver 17 for SQL Server}',SERVER='localhost,1433',DATABASE='dbproducao',UID='sa',PWD='Numsey@Password!')\n",
    "cursor = cnxn.cursor()"
   ]
  },
  {
   "cell_type": "code",
   "execution_count": 18,
   "metadata": {},
   "outputs": [
    {
     "output_type": "stream",
     "name": "stdout",
     "text": [
      "(1, '1970 Napa Ct.', 'Bothell', '98011')\n(2, '9833 Mt. Dias Blv.', 'Bothell', '98011')\n(3, '7484 Roundtree Drive', 'Bothell', '98011')\n"
     ]
    }
   ],
   "source": [
    "cursor.execute(\"SELECT TOP 3 AddressID,  AddressLine1, City,  PostalCode FROM Person.Address where AddressID  in (1,2,3)\") \n",
    "row = cursor.fetchone() \n",
    "while row: \n",
    "    print(row)\n",
    "    row = cursor.fetchone()\n",
    "\n"
   ]
  },
  {
   "cell_type": "code",
   "execution_count": null,
   "metadata": {},
   "outputs": [],
   "source": []
  }
 ]
}